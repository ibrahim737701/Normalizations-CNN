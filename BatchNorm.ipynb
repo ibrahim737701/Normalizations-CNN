{
  "nbformat": 4,
  "nbformat_minor": 0,
  "metadata": {
    "colab": {
      "provenance": []
    },
    "kernelspec": {
      "name": "python3",
      "display_name": "Python 3"
    },
    "language_info": {
      "name": "python"
    }
  },
  "cells": [
    {
      "cell_type": "code",
      "execution_count": 32,
      "metadata": {
        "id": "FfSrqKMrJET6"
      },
      "outputs": [],
      "source": [
        "from __future__ import print_function\n",
        "import torch\n",
        "import torch.nn as nn\n",
        "import torch.nn.functional as F\n",
        "import torch.optim as optim\n",
        "from torchvision import datasets, transforms"
      ]
    },
    {
      "cell_type": "code",
      "source": [
        "class Net(nn.Module):\n",
        "    def __init__(self):\n",
        "        super(Net, self).__init__()\n",
        "        self.conv1 = nn.Conv2d(3, 16, 3, padding =1)\n",
        "        self.bn1 = nn.BatchNorm2d(16)\n",
        "        self.conv2 = nn.Conv2d(16, 32, 3, padding =1)\n",
        "        self.bn2 = nn.BatchNorm2d(32)\n",
        "        self.conv3 = nn.Conv2d(32,16, 1) #ant man\n",
        "        self.bn3 = nn.BatchNorm2d(16)\n",
        "        self.pool1 = nn.MaxPool2d(2, 2)\n",
        "        self.conv4 = nn.Conv2d(16, 32, 3,padding =1)\n",
        "        self.bn4 = nn.BatchNorm2d(32)\n",
        "        self.conv5 = nn.Conv2d(32, 32, 3,padding =1)\n",
        "        self.bn5 = nn.BatchNorm2d(32)\n",
        "        self.conv6 = nn.Conv2d(32, 32, 3,padding =1)\n",
        "        self.bn6 = nn.BatchNorm2d(32)\n",
        "        self.conv7 = nn.Conv2d(32, 16, 1)\n",
        "        self.bn7 = nn.BatchNorm2d(16)\n",
        "        self.pool2 = nn.MaxPool2d(2, 2)\n",
        "        self.conv8 = nn.Conv2d(16,32,3,padding =1)\n",
        "        self.bn8 = nn.BatchNorm2d(32)\n",
        "        self.conv9 = nn.Conv2d(32, 32, 3,padding =1)\n",
        "        self.bn9 = nn.BatchNorm2d(32)\n",
        "        self.conv10 = nn.Conv2d(32,32,3,padding =1)\n",
        "        self.bn10 = nn.BatchNorm2d(32)\n",
        "        self.gap = nn.AdaptiveAvgPool2d((1, 1))\n",
        "        self.conv11 = nn.Conv2d(32, 10, 1)\n",
        "\n",
        "    def forward(self, x):\n",
        "        x = F.relu(self.bn1(self.conv1(x)))\n",
        "        x = F.relu(self.bn2(self.conv2(x)))\n",
        "        x = F.relu(self.bn3(self.conv3(x)))\n",
        "        x = self.pool1(x)\n",
        "        x = F.relu(self.bn4(self.conv4(x)))\n",
        "        x = F.relu(self.bn5(self.conv5(x)))\n",
        "        x = F.relu(self.bn6(self.conv6(x)))\n",
        "        x = F.relu(self.bn7(self.conv7(x)))\n",
        "        x = self.pool2(x)\n",
        "        x = F.relu(self.bn8(self.conv8(x)))\n",
        "        x = F.relu(self.bn9(self.conv9(x)))\n",
        "        x = F.relu(self.bn10(self.conv10(x)))\n",
        "        x = self.gap(x)\n",
        "        x = x.squeeze(-1).squeeze(-1)\n",
        "\n",
        "        return F.log_softmax(x, dim=1)"
      ],
      "metadata": {
        "id": "4ZSY6VNTJJsJ"
      },
      "execution_count": 33,
      "outputs": []
    },
    {
      "cell_type": "code",
      "source": [
        "from torchsummary import summary\n",
        "use_cuda = torch.cuda.is_available()\n",
        "device = torch.device(\"cuda\" if use_cuda else \"cpu\")\n",
        "model = Net().to(device)\n",
        "summary(model, input_size=(3, 28, 28))\n",
        ""
      ],
      "metadata": {
        "colab": {
          "base_uri": "https://localhost:8080/"
        },
        "id": "-k2bW5weJXtM",
        "outputId": "553686bc-0566-4742-c66e-dceecd96632b"
      },
      "execution_count": 34,
      "outputs": [
        {
          "output_type": "stream",
          "name": "stdout",
          "text": [
            "----------------------------------------------------------------\n",
            "        Layer (type)               Output Shape         Param #\n",
            "================================================================\n",
            "            Conv2d-1           [-1, 16, 28, 28]             448\n",
            "       BatchNorm2d-2           [-1, 16, 28, 28]              32\n",
            "            Conv2d-3           [-1, 32, 28, 28]           4,640\n",
            "       BatchNorm2d-4           [-1, 32, 28, 28]              64\n",
            "            Conv2d-5           [-1, 16, 28, 28]             528\n",
            "       BatchNorm2d-6           [-1, 16, 28, 28]              32\n",
            "         MaxPool2d-7           [-1, 16, 14, 14]               0\n",
            "            Conv2d-8           [-1, 32, 14, 14]           4,640\n",
            "       BatchNorm2d-9           [-1, 32, 14, 14]              64\n",
            "           Conv2d-10           [-1, 32, 14, 14]           9,248\n",
            "      BatchNorm2d-11           [-1, 32, 14, 14]              64\n",
            "           Conv2d-12           [-1, 32, 14, 14]           9,248\n",
            "      BatchNorm2d-13           [-1, 32, 14, 14]              64\n",
            "           Conv2d-14           [-1, 16, 14, 14]             528\n",
            "      BatchNorm2d-15           [-1, 16, 14, 14]              32\n",
            "        MaxPool2d-16             [-1, 16, 7, 7]               0\n",
            "           Conv2d-17             [-1, 32, 7, 7]           4,640\n",
            "      BatchNorm2d-18             [-1, 32, 7, 7]              64\n",
            "           Conv2d-19             [-1, 32, 7, 7]           9,248\n",
            "      BatchNorm2d-20             [-1, 32, 7, 7]              64\n",
            "           Conv2d-21             [-1, 32, 7, 7]           9,248\n",
            "      BatchNorm2d-22             [-1, 32, 7, 7]              64\n",
            "AdaptiveAvgPool2d-23             [-1, 32, 1, 1]               0\n",
            "================================================================\n",
            "Total params: 52,960\n",
            "Trainable params: 52,960\n",
            "Non-trainable params: 0\n",
            "----------------------------------------------------------------\n",
            "Input size (MB): 0.01\n",
            "Forward/backward pass size (MB): 1.20\n",
            "Params size (MB): 0.20\n",
            "Estimated Total Size (MB): 1.41\n",
            "----------------------------------------------------------------\n"
          ]
        }
      ]
    },
    {
      "cell_type": "code",
      "source": [
        "from tqdm import tqdm\n",
        "import torch\n",
        "import torch.nn.functional as F\n",
        "import matplotlib.pyplot as plt\n",
        "\n",
        "def train(model, device, train_loader, optimizer, epoch):\n",
        "    model.train()\n",
        "    pbar = tqdm(train_loader)\n",
        "    correct = 0\n",
        "    processed = 0\n",
        "    for batch_idx, (data, target) in enumerate(pbar):\n",
        "        data, target = data.to(device), target.to(device)\n",
        "        optimizer.zero_grad()\n",
        "        output = model(data)\n",
        "        loss = F.nll_loss(output, target)\n",
        "        loss.backward()\n",
        "        optimizer.step()\n",
        "\n",
        "        # Get predictions and count correct ones\n",
        "        pred = output.argmax(dim=1, keepdim=True)\n",
        "        correct += pred.eq(target.view_as(pred)).sum().item()\n",
        "        processed += len(data)\n",
        "\n",
        "        # Update progress bar description\n",
        "        pbar.set_description(desc=f'Loss={loss.item()} Batch_id={batch_idx} Accuracy={100.*correct/processed:.2f}%')\n",
        "\n",
        "    # Print training accuracy for the epoch\n",
        "    print('\\nTrain set: Epoch: {}, Accuracy: {}/{} ({:.0f}%)\\n'.format(\n",
        "        epoch, correct, len(train_loader.dataset), 100. * correct / len(train_loader.dataset)))\n",
        "\n",
        "def test(model, device, test_loader):\n",
        "    model.eval()\n",
        "    test_loss = 0\n",
        "    correct = 0\n",
        "    misclassified_indices = []  # List to store indices of misclassified images\n",
        "    with torch.no_grad():\n",
        "        for batch_idx, (data, target) in enumerate(tqdm(test_loader)):\n",
        "            data, target = data.to(device), target.to(device)\n",
        "            output = model(data)\n",
        "            test_loss += F.nll_loss(output, target, reduction='sum').item()  # sum up batch loss\n",
        "            pred = output.argmax(dim=1, keepdim=True)  # get the index of the max log-probability\n",
        "            correct += pred.eq(target.view_as(pred)).sum().item()\n",
        "\n",
        "            # Identify misclassified indices\n",
        "            misclassified = ~pred.eq(target.view_as(pred))\n",
        "            idxs = batch_idx * test_loader.batch_size + torch.nonzero(misclassified, as_tuple=False).reshape(-1)\n",
        "            misclassified_indices.extend(idxs.cpu().numpy())\n",
        "\n",
        "    test_loss /= len(test_loader.dataset)\n",
        "\n",
        "    # Print test accuracy\n",
        "    print('\\nTest set: Average loss: {:.4f}, Accuracy: {}/{} ({:.0f}%)\\n'.format(\n",
        "        test_loss, correct, len(test_loader.dataset), 100. * correct / len(test_loader.dataset)))\n",
        "\n",
        "    return misclassified_indices\n",
        "\n",
        "# def display_misclassified_images(misclassified_indices, dataset, num_images=10):\n",
        "#     if len(misclassified_indices) < num_images:\n",
        "#         num_images = len(misclassified_indices)\n",
        "#     fig = plt.figure(figsize=(25, 4))\n",
        "#     for idx, misclassified_index in enumerate(misclassified_indices[:num_images]):\n",
        "#         ax = fig.add_subplot(2, num_images/2, idx+1, xticks=[], yticks=[])\n",
        "#         image, label = dataset[misclassified_index]\n",
        "#         image = image.cpu().numpy().transpose((1, 2, 0))  # Convert to HxWxC format for displaying\n",
        "#         ax.imshow(image)\n",
        "#         ax.set_title(f'Index: {misclassified_index}\\nPredicted: {label}')\n",
        "\n",
        "def display_misclassified_images(misclassified_indices, dataset, num_images=10):\n",
        "    if len(misclassified_indices) < num_images:\n",
        "        num_images = len(misclassified_indices)\n",
        "    num_cols = min(num_images // 2, 5)  # Limiting to 5 columns for better visualization\n",
        "    fig = plt.figure(figsize=(25, 4))\n",
        "    for idx, misclassified_index in enumerate(misclassified_indices[:num_images]):\n",
        "        ax = fig.add_subplot(2, num_cols, idx+1, xticks=[], yticks=[])  # Ensure num_cols is an integer\n",
        "        image, label = dataset[misclassified_index]\n",
        "        image = image.cpu().numpy().transpose((1, 2, 0))  # Convert to HxWxC format for displaying\n",
        "        ax.imshow(image)\n",
        "        ax.set_title(f'Index: {misclassified_index}\\nPredicted: {label}')\n",
        "\n"
      ],
      "metadata": {
        "id": "XRWGt34cVdkZ"
      },
      "execution_count": 35,
      "outputs": []
    },
    {
      "cell_type": "code",
      "source": [
        "from tqdm import tqdm\n",
        "import torch\n",
        "import torch.nn.functional as F\n",
        "import matplotlib.pyplot as plt\n",
        "\n",
        "def train(model, device, train_loader, optimizer, epoch):\n",
        "    model.train()\n",
        "    pbar = tqdm(train_loader)\n",
        "    correct = 0\n",
        "    processed = 0\n",
        "    for batch_idx, (data, target) in enumerate(pbar):\n",
        "        data, target = data.to(device), target.to(device)\n",
        "        optimizer.zero_grad()\n",
        "        output = model(data)\n",
        "        loss = F.nll_loss(output, target)\n",
        "        loss.backward()\n",
        "        optimizer.step()\n",
        "\n",
        "        # Get predictions and count correct ones\n",
        "        pred = output.argmax(dim=1, keepdim=True)\n",
        "        correct += pred.eq(target.view_as(pred)).sum().item()\n",
        "        processed += len(data)\n",
        "\n",
        "        # Update progress bar description\n",
        "        pbar.set_description(desc=f'Loss={loss.item()} Batch_id={batch_idx} Accuracy={100.*correct/processed:.2f}%')\n",
        "\n",
        "    # Print training accuracy for the epoch\n",
        "    print('\\nTrain set: Epoch: {}, Accuracy: {}/{} ({:.0f}%)\\n'.format(\n",
        "        epoch, correct, len(train_loader.dataset), 100. * correct / len(train_loader.dataset)))\n",
        "\n",
        "def test(model, device, test_loader):\n",
        "    model.eval()\n",
        "    test_loss = 0\n",
        "    correct = 0\n",
        "    misclassified_indices = []  # List to store indices of misclassified images\n",
        "    with torch.no_grad():\n",
        "        for batch_idx, (data, target) in enumerate(tqdm(test_loader)):\n",
        "            data, target = data.to(device), target.to(device)\n",
        "            output = model(data)\n",
        "            test_loss += F.nll_loss(output, target, reduction='sum').item()  # sum up batch loss\n",
        "            pred = output.argmax(dim=1, keepdim=True)  # get the index of the max log-probability\n",
        "            correct += pred.eq(target.view_as(pred)).sum().item()\n",
        "\n",
        "            # Identify misclassified indices\n",
        "            misclassified = ~pred.eq(target.view_as(pred))\n",
        "            idxs = batch_idx * test_loader.batch_size + torch.nonzero(misclassified, as_tuple=False).reshape(-1)\n",
        "            misclassified_indices.extend(idxs.cpu().numpy())\n",
        "\n",
        "    test_loss /= len(test_loader.dataset)\n",
        "\n",
        "    # Print test accuracy\n",
        "    print('\\nTest set: Average loss: {:.4f}, Accuracy: {}/{} ({:.0f}%)\\n'.format(\n",
        "        test_loss, correct, len(test_loader.dataset), 100. * correct / len(test_loader.dataset)))\n",
        "\n",
        "    return misclassified_indices\n",
        "\n",
        "# def display_misclassified_images(misclassified_indices, dataset, num_images=10):\n",
        "#     if len(misclassified_indices) < num_images:\n",
        "#         num_images = len(misclassified_indices)\n",
        "#     fig = plt.figure(figsize=(25, 4))\n",
        "#     for idx, misclassified_index in enumerate(misclassified_indices[:num_images]):\n",
        "#         ax = fig.add_subplot(2, num_images/2, idx+1, xticks=[], yticks=[])\n",
        "#         image, label = dataset[misclassified_index]\n",
        "#         image = image.cpu().numpy().transpose((1, 2, 0))  # Convert to HxWxC format for displaying\n",
        "#         ax.imshow(image)\n",
        "#         ax.set_title(f'Index: {misclassified_index}\\nPredicted: {label}')\n",
        "\n",
        "def display_misclassified_images(misclassified_indices, dataset, num_images=10):\n",
        "    if len(misclassified_indices) < num_images:\n",
        "        num_images = len(misclassified_indices)\n",
        "    num_cols = min(num_images // 2, 5)  # Limiting to 5 columns for better visualization\n",
        "    fig = plt.figure(figsize=(25, 4))\n",
        "    for idx, misclassified_index in enumerate(misclassified_indices[:num_images]):\n",
        "        ax = fig.add_subplot(2, num_cols, idx+1, xticks=[], yticks=[])  # Ensure num_cols is an integer\n",
        "        image, label = dataset[misclassified_index]\n",
        "        image = image.cpu().numpy().transpose((1, 2, 0))  # Convert to HxWxC format for displaying\n",
        "        ax.imshow(image)\n",
        "        ax.set_title(f'Index: {misclassified_index}\\nPredicted: {label}')\n",
        "\n"
      ],
      "metadata": {
        "id": "pCqRLcQbWTIA"
      },
      "execution_count": 36,
      "outputs": []
    },
    {
      "cell_type": "code",
      "source": [
        "import torchvision\n",
        "import torchvision.transforms as transforms\n",
        "model = Net().to(device)\n",
        "optimizer = optim.SGD(model.parameters(), lr=0.01, momentum=0.9)\n",
        "\n",
        "transform = transforms.Compose(\n",
        "        [transforms.ToTensor(),\n",
        "         transforms.Normalize((0.5, 0.5, 0.5), (0.5, 0.5, 0.5))])\n",
        "testset = torchvision.datasets.CIFAR10(root='./data', train=False,\n",
        "                                           download=True, transform=transform)\n",
        "for epoch in range(1, 10):\n",
        "    train(model, device, train_loader, optimizer, epoch)\n",
        "    x= test(model, device, test_loader)\n",
        "\n",
        "\n",
        "display_misclassified_images(x, testset, num_images=10)"
      ],
      "metadata": {
        "colab": {
          "base_uri": "https://localhost:8080/",
          "height": 1000
        },
        "id": "kSPAQAWXWVWO",
        "outputId": "c77bf2a6-7ba6-4dbf-924c-09dfbbaad29d"
      },
      "execution_count": 37,
      "outputs": [
        {
          "metadata": {
            "tags": null
          },
          "name": "stdout",
          "output_type": "stream",
          "text": [
            "Files already downloaded and verified\n"
          ]
        },
        {
          "metadata": {
            "tags": null
          },
          "name": "stderr",
          "output_type": "stream",
          "text": [
            "Loss=1.3232481479644775 Batch_id=390 Accuracy=47.58%: 100%|██████████| 391/391 [03:01<00:00,  2.16it/s]\n"
          ]
        },
        {
          "metadata": {
            "tags": null
          },
          "name": "stdout",
          "output_type": "stream",
          "text": [
            "\n",
            "Train set: Epoch: 1, Accuracy: 23792/50000 (48%)\n",
            "\n"
          ]
        },
        {
          "metadata": {
            "tags": null
          },
          "name": "stderr",
          "output_type": "stream",
          "text": [
            "100%|██████████| 79/79 [00:13<00:00,  5.66it/s]\n"
          ]
        },
        {
          "metadata": {
            "tags": null
          },
          "name": "stdout",
          "output_type": "stream",
          "text": [
            "\n",
            "Test set: Average loss: 1.4700, Accuracy: 5232/10000 (52%)\n",
            "\n"
          ]
        },
        {
          "metadata": {
            "tags": null
          },
          "name": "stderr",
          "output_type": "stream",
          "text": [
            "Loss=1.0314087867736816 Batch_id=390 Accuracy=63.86%: 100%|██████████| 391/391 [03:01<00:00,  2.16it/s]\n"
          ]
        },
        {
          "metadata": {
            "tags": null
          },
          "name": "stdout",
          "output_type": "stream",
          "text": [
            "\n",
            "Train set: Epoch: 2, Accuracy: 31929/50000 (64%)\n",
            "\n"
          ]
        },
        {
          "metadata": {
            "tags": null
          },
          "name": "stderr",
          "output_type": "stream",
          "text": [
            "100%|██████████| 79/79 [00:14<00:00,  5.60it/s]\n"
          ]
        },
        {
          "metadata": {
            "tags": null
          },
          "name": "stdout",
          "output_type": "stream",
          "text": [
            "\n",
            "Test set: Average loss: 1.3277, Accuracy: 5655/10000 (57%)\n",
            "\n"
          ]
        },
        {
          "metadata": {
            "tags": null
          },
          "name": "stderr",
          "output_type": "stream",
          "text": [
            "Loss=1.1209616661071777 Batch_id=390 Accuracy=69.28%: 100%|██████████| 391/391 [02:57<00:00,  2.21it/s]\n"
          ]
        },
        {
          "metadata": {
            "tags": null
          },
          "name": "stdout",
          "output_type": "stream",
          "text": [
            "\n",
            "Train set: Epoch: 3, Accuracy: 34639/50000 (69%)\n",
            "\n"
          ]
        },
        {
          "metadata": {
            "tags": null
          },
          "name": "stderr",
          "output_type": "stream",
          "text": [
            "100%|██████████| 79/79 [00:13<00:00,  5.73it/s]\n"
          ]
        },
        {
          "metadata": {
            "tags": null
          },
          "name": "stdout",
          "output_type": "stream",
          "text": [
            "\n",
            "Test set: Average loss: 1.0829, Accuracy: 6395/10000 (64%)\n",
            "\n"
          ]
        },
        {
          "metadata": {
            "tags": null
          },
          "name": "stderr",
          "output_type": "stream",
          "text": [
            "Loss=0.8934265971183777 Batch_id=390 Accuracy=72.61%: 100%|██████████| 391/391 [02:57<00:00,  2.21it/s]\n"
          ]
        },
        {
          "metadata": {
            "tags": null
          },
          "name": "stdout",
          "output_type": "stream",
          "text": [
            "\n",
            "Train set: Epoch: 4, Accuracy: 36306/50000 (73%)\n",
            "\n"
          ]
        },
        {
          "metadata": {
            "tags": null
          },
          "name": "stderr",
          "output_type": "stream",
          "text": [
            "100%|██████████| 79/79 [00:13<00:00,  5.68it/s]\n"
          ]
        },
        {
          "metadata": {
            "tags": null
          },
          "name": "stdout",
          "output_type": "stream",
          "text": [
            "\n",
            "Test set: Average loss: 0.8631, Accuracy: 7026/10000 (70%)\n",
            "\n"
          ]
        },
        {
          "metadata": {
            "tags": null
          },
          "name": "stderr",
          "output_type": "stream",
          "text": [
            "Loss=0.7254115343093872 Batch_id=390 Accuracy=75.05%: 100%|██████████| 391/391 [02:55<00:00,  2.23it/s]\n"
          ]
        },
        {
          "metadata": {
            "tags": null
          },
          "name": "stdout",
          "output_type": "stream",
          "text": [
            "\n",
            "Train set: Epoch: 5, Accuracy: 37526/50000 (75%)\n",
            "\n"
          ]
        },
        {
          "metadata": {
            "tags": null
          },
          "name": "stderr",
          "output_type": "stream",
          "text": [
            "100%|██████████| 79/79 [00:13<00:00,  5.70it/s]\n"
          ]
        },
        {
          "metadata": {
            "tags": null
          },
          "name": "stdout",
          "output_type": "stream",
          "text": [
            "\n",
            "Test set: Average loss: 0.8304, Accuracy: 7184/10000 (72%)\n",
            "\n"
          ]
        },
        {
          "metadata": {
            "tags": null
          },
          "name": "stderr",
          "output_type": "stream",
          "text": [
            "Loss=0.8037440180778503 Batch_id=390 Accuracy=77.06%: 100%|██████████| 391/391 [02:55<00:00,  2.22it/s]\n"
          ]
        },
        {
          "metadata": {
            "tags": null
          },
          "name": "stdout",
          "output_type": "stream",
          "text": [
            "\n",
            "Train set: Epoch: 6, Accuracy: 38530/50000 (77%)\n",
            "\n"
          ]
        },
        {
          "metadata": {
            "tags": null
          },
          "name": "stderr",
          "output_type": "stream",
          "text": [
            "100%|██████████| 79/79 [00:13<00:00,  5.67it/s]\n"
          ]
        },
        {
          "metadata": {
            "tags": null
          },
          "name": "stdout",
          "output_type": "stream",
          "text": [
            "\n",
            "Test set: Average loss: 0.8410, Accuracy: 7153/10000 (72%)\n",
            "\n"
          ]
        },
        {
          "metadata": {
            "tags": null
          },
          "name": "stderr",
          "output_type": "stream",
          "text": [
            "Loss=0.6027301549911499 Batch_id=390 Accuracy=78.59%: 100%|██████████| 391/391 [02:54<00:00,  2.24it/s]\n"
          ]
        },
        {
          "metadata": {
            "tags": null
          },
          "name": "stdout",
          "output_type": "stream",
          "text": [
            "\n",
            "Train set: Epoch: 7, Accuracy: 39293/50000 (79%)\n",
            "\n"
          ]
        },
        {
          "metadata": {
            "tags": null
          },
          "name": "stderr",
          "output_type": "stream",
          "text": [
            "100%|██████████| 79/79 [00:13<00:00,  5.79it/s]\n"
          ]
        },
        {
          "metadata": {
            "tags": null
          },
          "name": "stdout",
          "output_type": "stream",
          "text": [
            "\n",
            "Test set: Average loss: 0.8984, Accuracy: 6956/10000 (70%)\n",
            "\n"
          ]
        },
        {
          "output_type": "stream",
          "name": "stderr",
          "text": [
            "Loss=0.7652797698974609 Batch_id=390 Accuracy=79.72%: 100%|██████████| 391/391 [02:54<00:00,  2.24it/s]\n"
          ]
        },
        {
          "output_type": "stream",
          "name": "stdout",
          "text": [
            "\n",
            "Train set: Epoch: 8, Accuracy: 39861/50000 (80%)\n",
            "\n"
          ]
        },
        {
          "output_type": "stream",
          "name": "stderr",
          "text": [
            "100%|██████████| 79/79 [00:14<00:00,  5.60it/s]\n"
          ]
        },
        {
          "output_type": "stream",
          "name": "stdout",
          "text": [
            "\n",
            "Test set: Average loss: 0.8430, Accuracy: 7181/10000 (72%)\n",
            "\n"
          ]
        },
        {
          "output_type": "stream",
          "name": "stderr",
          "text": [
            "Loss=0.4314480721950531 Batch_id=390 Accuracy=80.47%: 100%|██████████| 391/391 [02:54<00:00,  2.24it/s]\n"
          ]
        },
        {
          "output_type": "stream",
          "name": "stdout",
          "text": [
            "\n",
            "Train set: Epoch: 9, Accuracy: 40236/50000 (80%)\n",
            "\n"
          ]
        },
        {
          "output_type": "stream",
          "name": "stderr",
          "text": [
            "100%|██████████| 79/79 [00:13<00:00,  5.79it/s]\n",
            "WARNING:matplotlib.image:Clipping input data to the valid range for imshow with RGB data ([0..1] for floats or [0..255] for integers).\n",
            "WARNING:matplotlib.image:Clipping input data to the valid range for imshow with RGB data ([0..1] for floats or [0..255] for integers).\n",
            "WARNING:matplotlib.image:Clipping input data to the valid range for imshow with RGB data ([0..1] for floats or [0..255] for integers).\n"
          ]
        },
        {
          "output_type": "stream",
          "name": "stdout",
          "text": [
            "\n",
            "Test set: Average loss: 0.8217, Accuracy: 7266/10000 (73%)\n",
            "\n"
          ]
        },
        {
          "output_type": "stream",
          "name": "stderr",
          "text": [
            "WARNING:matplotlib.image:Clipping input data to the valid range for imshow with RGB data ([0..1] for floats or [0..255] for integers).\n",
            "WARNING:matplotlib.image:Clipping input data to the valid range for imshow with RGB data ([0..1] for floats or [0..255] for integers).\n",
            "WARNING:matplotlib.image:Clipping input data to the valid range for imshow with RGB data ([0..1] for floats or [0..255] for integers).\n",
            "WARNING:matplotlib.image:Clipping input data to the valid range for imshow with RGB data ([0..1] for floats or [0..255] for integers).\n",
            "WARNING:matplotlib.image:Clipping input data to the valid range for imshow with RGB data ([0..1] for floats or [0..255] for integers).\n",
            "WARNING:matplotlib.image:Clipping input data to the valid range for imshow with RGB data ([0..1] for floats or [0..255] for integers).\n",
            "WARNING:matplotlib.image:Clipping input data to the valid range for imshow with RGB data ([0..1] for floats or [0..255] for integers).\n"
          ]
        },
        {
          "output_type": "display_data",
          "data": {
            "text/plain": [
              "<Figure size 2500x400 with 10 Axes>"
            ],
            "image/png": "[encoded data removed]"
          },
          "metadata": {}
        }
      ]
    }
  ]
}