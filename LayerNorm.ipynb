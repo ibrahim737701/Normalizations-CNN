{
  "nbformat": 4,
  "nbformat_minor": 0,
  "metadata": {
    "colab": {
      "provenance": []
    },
    "kernelspec": {
      "name": "python3",
      "display_name": "Python 3"
    },
    "language_info": {
      "name": "python"
    }
  },
  "cells": [
    {
      "cell_type": "code",
      "execution_count": 42,
      "metadata": {
        "id": "dxx5-gMSgLjw"
      },
      "outputs": [],
      "source": [
        "from __future__ import print_function\n",
        "import torch\n",
        "import torch.nn as nn\n",
        "import torch.nn.functional as F\n",
        "import torch.optim as optim\n",
        "from torchvision import datasets, transforms"
      ]
    },
    {
      "cell_type": "code",
      "source": [
        "import torch.nn as nn\n",
        "import torch.nn.functional as F\n",
        "\n",
        "class Net(nn.Module):\n",
        "    def __init__(self):\n",
        "        super(Net, self).__init__()\n",
        "        self.conv1 = nn.Conv2d(3, 32, 3, padding=1)\n",
        "        self.conv2 = nn.Conv2d(32, 32, 3, padding=1)\n",
        "        self.conv3 = nn.Conv2d(32, 16, 1)  # \"Ant man\" layer\n",
        "        self.pool1 = nn.MaxPool2d(2, 2)\n",
        "        self.conv4 = nn.Conv2d(16, 32, 3, padding=1)\n",
        "        self.conv5 = nn.Conv2d(32, 32, 3, padding=1)\n",
        "        self.conv6 = nn.Conv2d(32, 32, 3, padding=1)\n",
        "        self.conv7 = nn.Conv2d(32, 16, 1)\n",
        "        self.pool2 = nn.MaxPool2d(2, 2)\n",
        "        self.conv8 = nn.Conv2d(16, 32, 3, padding=1)\n",
        "        self.conv9 = nn.Conv2d(32, 32, 3, padding=1)\n",
        "        self.conv10 = nn.Conv2d(32, 32, 3, padding=1)\n",
        "        self.gap = nn.AdaptiveAvgPool2d((1, 1))\n",
        "        self.ln = nn.LayerNorm(32)  # Apply LayerNorm after GAP, matching 32 channels\n",
        "        self.conv11 = nn.Conv2d(32, 10, 1)\n",
        "\n",
        "    def forward(self, x):\n",
        "        x = F.relu(self.conv1(x))\n",
        "        x = F.relu(self.conv2(x))\n",
        "        x = F.relu(self.conv3(x))\n",
        "        x = self.pool1(x)\n",
        "        x = F.relu(self.conv4(x))\n",
        "        x = F.relu(self.conv5(x))\n",
        "        x = F.relu(self.conv6(x))\n",
        "        x = F.relu(self.conv7(x))\n",
        "        x = self.pool2(x)\n",
        "        x = F.relu(self.conv8(x))\n",
        "        x = F.relu(self.conv9(x))\n",
        "        x = F.relu(self.conv10(x))\n",
        "        x = self.gap(x)\n",
        "        x = x.view(x.size(0), -1)  # Flatten the output for LayerNorm\n",
        "        x = self.ln(x)  # Apply LayerNorm\n",
        "        x = x.view(x.size(0), 32, 1, 1)  # Reshape back for the conv layer\n",
        "        x = self.conv11(x)\n",
        "        x = x.view(x.size(0), -1)  # Flatten the output for log_softmax\n",
        "\n",
        "        return F.log_softmax(x, dim=1)\n"
      ],
      "metadata": {
        "id": "gSDb_p6Ks-XT"
      },
      "execution_count": 43,
      "outputs": []
    },
    {
      "cell_type": "code",
      "source": [
        "from torchsummary import summary\n",
        "use_cuda = torch.cuda.is_available()\n",
        "device = torch.device(\"cuda\" if use_cuda else \"cpu\")\n",
        "model = Net().to(device)\n",
        "summary(model, input_size=(3, 28, 28))\n",
        ""
      ],
      "metadata": {
        "colab": {
          "base_uri": "https://localhost:8080/"
        },
        "id": "OVhw4-PMgoKt",
        "outputId": "4eb53f18-666d-4802-dec8-8f037b2f134c"
      },
      "execution_count": 44,
      "outputs": [
        {
          "output_type": "stream",
          "name": "stdout",
          "text": [
            "----------------------------------------------------------------\n",
            "        Layer (type)               Output Shape         Param #\n",
            "================================================================\n",
            "            Conv2d-1           [-1, 32, 28, 28]             896\n",
            "            Conv2d-2           [-1, 32, 28, 28]           9,248\n",
            "            Conv2d-3           [-1, 16, 28, 28]             528\n",
            "         MaxPool2d-4           [-1, 16, 14, 14]               0\n",
            "            Conv2d-5           [-1, 32, 14, 14]           4,640\n",
            "            Conv2d-6           [-1, 32, 14, 14]           9,248\n",
            "            Conv2d-7           [-1, 32, 14, 14]           9,248\n",
            "            Conv2d-8           [-1, 16, 14, 14]             528\n",
            "         MaxPool2d-9             [-1, 16, 7, 7]               0\n",
            "           Conv2d-10             [-1, 32, 7, 7]           4,640\n",
            "           Conv2d-11             [-1, 32, 7, 7]           9,248\n",
            "           Conv2d-12             [-1, 32, 7, 7]           9,248\n",
            "AdaptiveAvgPool2d-13             [-1, 32, 1, 1]               0\n",
            "        LayerNorm-14                   [-1, 32]              64\n",
            "           Conv2d-15             [-1, 10, 1, 1]             330\n",
            "================================================================\n",
            "Total params: 57,866\n",
            "Trainable params: 57,866\n",
            "Non-trainable params: 0\n",
            "----------------------------------------------------------------\n",
            "Input size (MB): 0.01\n",
            "Forward/backward pass size (MB): 0.71\n",
            "Params size (MB): 0.22\n",
            "Estimated Total Size (MB): 0.94\n",
            "----------------------------------------------------------------\n"
          ]
        }
      ]
    },
    {
      "cell_type": "code",
      "source": [
        "torch.manual_seed(1)\n",
        "batch_size = 128\n",
        "\n",
        "kwargs = {'num_workers': 1, 'pin_memory': True} if use_cuda else {}\n",
        "train_loader = torch.utils.data.DataLoader(\n",
        "    datasets.CIFAR10('../data', train=True, download=True,\n",
        "                     transform=transforms.Compose([\n",
        "                         transforms.ToTensor(),\n",
        "                         # Normalize the CIFAR10 dataset with mean and std for each channel (RGB).\n",
        "                         transforms.Normalize((0.4914, 0.4822, 0.4465), (0.247, 0.243, 0.261))\n",
        "                     ])),\n",
        "    batch_size=batch_size, shuffle=True, **kwargs)\n",
        "\n",
        "test_loader = torch.utils.data.DataLoader(\n",
        "    datasets.CIFAR10('../data', train=False, transform=transforms.Compose([\n",
        "                         transforms.ToTensor(),\n",
        "                         # Normalize using the same values as for the training set.\n",
        "                         transforms.Normalize((0.4914, 0.4822, 0.4465), (0.247, 0.243, 0.261))\n",
        "                     ])),\n",
        "    batch_size=batch_size, shuffle=True, **kwargs)"
      ],
      "metadata": {
        "colab": {
          "base_uri": "https://localhost:8080/"
        },
        "id": "eV9Bmj9mgqFq",
        "outputId": "9b9901a1-4675-4ddb-fa1b-b4a600d3fc3f"
      },
      "execution_count": 45,
      "outputs": [
        {
          "output_type": "stream",
          "name": "stdout",
          "text": [
            "Files already downloaded and verified\n"
          ]
        }
      ]
    },
    {
      "cell_type": "code",
      "source": [
        "from tqdm import tqdm\n",
        "import torch\n",
        "import torch.nn.functional as F\n",
        "import matplotlib.pyplot as plt\n",
        "\n",
        "def train(model, device, train_loader, optimizer, epoch):\n",
        "    model.train()\n",
        "    pbar = tqdm(train_loader)\n",
        "    correct = 0\n",
        "    processed = 0\n",
        "    for batch_idx, (data, target) in enumerate(pbar):\n",
        "        data, target = data.to(device), target.to(device)\n",
        "        optimizer.zero_grad()\n",
        "        output = model(data)\n",
        "        loss = F.nll_loss(output, target)\n",
        "        loss.backward()\n",
        "        optimizer.step()\n",
        "\n",
        "        # Get predictions and count correct ones\n",
        "        pred = output.argmax(dim=1, keepdim=True)\n",
        "        correct += pred.eq(target.view_as(pred)).sum().item()\n",
        "        processed += len(data)\n",
        "\n",
        "        # Update progress bar description\n",
        "        pbar.set_description(desc=f'Loss={loss.item()} Batch_id={batch_idx} Accuracy={100.*correct/processed:.2f}%')\n",
        "\n",
        "    # Print training accuracy for the epoch\n",
        "    print('\\nTrain set: Epoch: {}, Accuracy: {}/{} ({:.0f}%)\\n'.format(\n",
        "        epoch, correct, len(train_loader.dataset), 100. * correct / len(train_loader.dataset)))\n",
        "\n",
        "def test(model, device, test_loader):\n",
        "    model.eval()\n",
        "    test_loss = 0\n",
        "    correct = 0\n",
        "    misclassified_indices = []  # List to store indices of misclassified images\n",
        "    with torch.no_grad():\n",
        "        for batch_idx, (data, target) in enumerate(tqdm(test_loader)):\n",
        "            data, target = data.to(device), target.to(device)\n",
        "            output = model(data)\n",
        "            test_loss += F.nll_loss(output, target, reduction='sum').item()  # sum up batch loss\n",
        "            pred = output.argmax(dim=1, keepdim=True)  # get the index of the max log-probability\n",
        "            correct += pred.eq(target.view_as(pred)).sum().item()\n",
        "\n",
        "            # Identify misclassified indices\n",
        "            misclassified = ~pred.eq(target.view_as(pred))\n",
        "            idxs = batch_idx * test_loader.batch_size + torch.nonzero(misclassified, as_tuple=False).reshape(-1)\n",
        "            misclassified_indices.extend(idxs.cpu().numpy())\n",
        "\n",
        "    test_loss /= len(test_loader.dataset)\n",
        "\n",
        "    # Print test accuracy\n",
        "    print('\\nTest set: Average loss: {:.4f}, Accuracy: {}/{} ({:.0f}%)\\n'.format(\n",
        "        test_loss, correct, len(test_loader.dataset), 100. * correct / len(test_loader.dataset)))\n",
        "\n",
        "    return misclassified_indices\n",
        "\n",
        "# def display_misclassified_images(misclassified_indices, dataset, num_images=10):\n",
        "#     if len(misclassified_indices) < num_images:\n",
        "#         num_images = len(misclassified_indices)\n",
        "#     fig = plt.figure(figsize=(25, 4))\n",
        "#     for idx, misclassified_index in enumerate(misclassified_indices[:num_images]):\n",
        "#         ax = fig.add_subplot(2, num_images/2, idx+1, xticks=[], yticks=[])\n",
        "#         image, label = dataset[misclassified_index]\n",
        "#         image = image.cpu().numpy().transpose((1, 2, 0))  # Convert to HxWxC format for displaying\n",
        "#         ax.imshow(image)\n",
        "#         ax.set_title(f'Index: {misclassified_index}\\nPredicted: {label}')\n",
        "\n",
        "def display_misclassified_images(misclassified_indices, dataset, num_images=10):\n",
        "    if len(misclassified_indices) < num_images:\n",
        "        num_images = len(misclassified_indices)\n",
        "    num_cols = min(num_images // 2, 5)  # Limiting to 5 columns for better visualization\n",
        "    fig = plt.figure(figsize=(25, 4))\n",
        "    for idx, misclassified_index in enumerate(misclassified_indices[:num_images]):\n",
        "        ax = fig.add_subplot(2, num_cols, idx+1, xticks=[], yticks=[])  # Ensure num_cols is an integer\n",
        "        image, label = dataset[misclassified_index]\n",
        "        image = image.cpu().numpy().transpose((1, 2, 0))  # Convert to HxWxC format for displaying\n",
        "        ax.imshow(image)\n",
        "        ax.set_title(f'Index: {misclassified_index}\\nPredicted: {label}')\n",
        "\n"
      ],
      "metadata": {
        "id": "zZnSuIXohB1o"
      },
      "execution_count": 46,
      "outputs": []
    },
    {
      "cell_type": "code",
      "source": [
        "import torchvision\n",
        "import torchvision.transforms as transforms\n",
        "model = Net().to(device)\n",
        "optimizer = optim.SGD(model.parameters(), lr=0.01, momentum=0.9)\n",
        "\n",
        "transform = transforms.Compose(\n",
        "        [transforms.ToTensor(),\n",
        "         transforms.Normalize((0.5, 0.5, 0.5), (0.5, 0.5, 0.5))])\n",
        "testset = torchvision.datasets.CIFAR10(root='./data', train=False,\n",
        "                                           download=True, transform=transform)\n",
        "for epoch in range(1, 10):\n",
        "    train(model, device, train_loader, optimizer, epoch)\n",
        "    x= test(model, device, test_loader)\n",
        "display_misclassified_images(x, testset, num_images=10)\n",
        "\n",
        "\n"
      ],
      "metadata": {
        "colab": {
          "base_uri": "https://localhost:8080/",
          "height": 1000
        },
        "id": "58xHonrDrULx",
        "outputId": "4626d897-fc38-403d-8e6f-04254de1917e"
      },
      "execution_count": 47,
      "outputs": [
        {
          "metadata": {
            "tags": null
          },
          "name": "stdout",
          "output_type": "stream",
          "text": [
            "Files already downloaded and verified\n"
          ]
        },
        {
          "metadata": {
            "tags": null
          },
          "name": "stderr",
          "output_type": "stream",
          "text": [
            "Loss=2.317626714706421 Batch_id=390 Accuracy=9.97%: 100%|██████████| 391/391 [03:10<00:00,  2.05it/s]\n"
          ]
        },
        {
          "metadata": {
            "tags": null
          },
          "name": "stdout",
          "output_type": "stream",
          "text": [
            "\n",
            "Train set: Epoch: 1, Accuracy: 4985/50000 (10%)\n",
            "\n"
          ]
        },
        {
          "metadata": {
            "tags": null
          },
          "name": "stderr",
          "output_type": "stream",
          "text": [
            "100%|██████████| 79/79 [00:16<00:00,  4.78it/s]\n"
          ]
        },
        {
          "metadata": {
            "tags": null
          },
          "name": "stdout",
          "output_type": "stream",
          "text": [
            "\n",
            "Test set: Average loss: 2.3067, Accuracy: 1000/10000 (10%)\n",
            "\n"
          ]
        },
        {
          "metadata": {
            "tags": null
          },
          "name": "stderr",
          "output_type": "stream",
          "text": [
            "Loss=2.302070140838623 Batch_id=390 Accuracy=10.14%: 100%|██████████| 391/391 [03:10<00:00,  2.06it/s]\n"
          ]
        },
        {
          "metadata": {
            "tags": null
          },
          "name": "stdout",
          "output_type": "stream",
          "text": [
            "\n",
            "Train set: Epoch: 2, Accuracy: 5069/50000 (10%)\n",
            "\n"
          ]
        },
        {
          "metadata": {
            "tags": null
          },
          "name": "stderr",
          "output_type": "stream",
          "text": [
            "100%|██████████| 79/79 [00:15<00:00,  5.12it/s]\n"
          ]
        },
        {
          "metadata": {
            "tags": null
          },
          "name": "stdout",
          "output_type": "stream",
          "text": [
            "\n",
            "Test set: Average loss: 2.3056, Accuracy: 1000/10000 (10%)\n",
            "\n"
          ]
        },
        {
          "output_type": "stream",
          "name": "stderr",
          "text": [
            "Loss=2.032735586166382 Batch_id=390 Accuracy=15.82%: 100%|██████████| 391/391 [03:07<00:00,  2.08it/s]\n"
          ]
        },
        {
          "output_type": "stream",
          "name": "stdout",
          "text": [
            "\n",
            "Train set: Epoch: 3, Accuracy: 7911/50000 (16%)\n",
            "\n"
          ]
        },
        {
          "output_type": "stream",
          "name": "stderr",
          "text": [
            "100%|██████████| 79/79 [00:15<00:00,  5.11it/s]\n"
          ]
        },
        {
          "output_type": "stream",
          "name": "stdout",
          "text": [
            "\n",
            "Test set: Average loss: 2.0112, Accuracy: 2025/10000 (20%)\n",
            "\n"
          ]
        },
        {
          "output_type": "stream",
          "name": "stderr",
          "text": [
            "Loss=1.8911793231964111 Batch_id=390 Accuracy=25.32%: 100%|██████████| 391/391 [03:08<00:00,  2.08it/s]\n"
          ]
        },
        {
          "output_type": "stream",
          "name": "stdout",
          "text": [
            "\n",
            "Train set: Epoch: 4, Accuracy: 12662/50000 (25%)\n",
            "\n"
          ]
        },
        {
          "output_type": "stream",
          "name": "stderr",
          "text": [
            "100%|██████████| 79/79 [00:15<00:00,  5.01it/s]\n"
          ]
        },
        {
          "output_type": "stream",
          "name": "stdout",
          "text": [
            "\n",
            "Test set: Average loss: 1.8823, Accuracy: 2639/10000 (26%)\n",
            "\n"
          ]
        },
        {
          "output_type": "stream",
          "name": "stderr",
          "text": [
            "Loss=1.6866124868392944 Batch_id=390 Accuracy=30.80%: 100%|██████████| 391/391 [03:07<00:00,  2.09it/s]\n"
          ]
        },
        {
          "output_type": "stream",
          "name": "stdout",
          "text": [
            "\n",
            "Train set: Epoch: 5, Accuracy: 15400/50000 (31%)\n",
            "\n"
          ]
        },
        {
          "output_type": "stream",
          "name": "stderr",
          "text": [
            "100%|██████████| 79/79 [00:15<00:00,  5.15it/s]\n"
          ]
        },
        {
          "output_type": "stream",
          "name": "stdout",
          "text": [
            "\n",
            "Test set: Average loss: 1.6942, Accuracy: 3537/10000 (35%)\n",
            "\n"
          ]
        },
        {
          "output_type": "stream",
          "name": "stderr",
          "text": [
            "Loss=1.489426851272583 Batch_id=390 Accuracy=36.02%: 100%|██████████| 391/391 [03:10<00:00,  2.05it/s]\n"
          ]
        },
        {
          "output_type": "stream",
          "name": "stdout",
          "text": [
            "\n",
            "Train set: Epoch: 6, Accuracy: 18009/50000 (36%)\n",
            "\n"
          ]
        },
        {
          "output_type": "stream",
          "name": "stderr",
          "text": [
            "100%|██████████| 79/79 [00:16<00:00,  4.87it/s]\n"
          ]
        },
        {
          "output_type": "stream",
          "name": "stdout",
          "text": [
            "\n",
            "Test set: Average loss: 1.5997, Accuracy: 3929/10000 (39%)\n",
            "\n"
          ]
        },
        {
          "output_type": "stream",
          "name": "stderr",
          "text": [
            "Loss=1.5773526430130005 Batch_id=390 Accuracy=41.36%: 100%|██████████| 391/391 [03:10<00:00,  2.06it/s]\n"
          ]
        },
        {
          "output_type": "stream",
          "name": "stdout",
          "text": [
            "\n",
            "Train set: Epoch: 7, Accuracy: 20679/50000 (41%)\n",
            "\n"
          ]
        },
        {
          "output_type": "stream",
          "name": "stderr",
          "text": [
            "100%|██████████| 79/79 [00:15<00:00,  5.16it/s]\n"
          ]
        },
        {
          "output_type": "stream",
          "name": "stdout",
          "text": [
            "\n",
            "Test set: Average loss: 1.5423, Accuracy: 4223/10000 (42%)\n",
            "\n"
          ]
        },
        {
          "output_type": "stream",
          "name": "stderr",
          "text": [
            "Loss=1.444011926651001 Batch_id=390 Accuracy=46.08%: 100%|██████████| 391/391 [03:08<00:00,  2.07it/s]\n"
          ]
        },
        {
          "output_type": "stream",
          "name": "stdout",
          "text": [
            "\n",
            "Train set: Epoch: 8, Accuracy: 23038/50000 (46%)\n",
            "\n"
          ]
        },
        {
          "output_type": "stream",
          "name": "stderr",
          "text": [
            "100%|██████████| 79/79 [00:16<00:00,  4.89it/s]\n"
          ]
        },
        {
          "output_type": "stream",
          "name": "stdout",
          "text": [
            "\n",
            "Test set: Average loss: 1.4269, Accuracy: 4673/10000 (47%)\n",
            "\n"
          ]
        },
        {
          "output_type": "stream",
          "name": "stderr",
          "text": [
            "Loss=1.368953824043274 Batch_id=390 Accuracy=49.44%: 100%|██████████| 391/391 [03:08<00:00,  2.08it/s]\n"
          ]
        },
        {
          "output_type": "stream",
          "name": "stdout",
          "text": [
            "\n",
            "Train set: Epoch: 9, Accuracy: 24719/50000 (49%)\n",
            "\n"
          ]
        },
        {
          "output_type": "stream",
          "name": "stderr",
          "text": [
            "100%|██████████| 79/79 [00:15<00:00,  5.08it/s]\n",
            "WARNING:matplotlib.image:Clipping input data to the valid range for imshow with RGB data ([0..1] for floats or [0..255] for integers).\n",
            "WARNING:matplotlib.image:Clipping input data to the valid range for imshow with RGB data ([0..1] for floats or [0..255] for integers).\n",
            "WARNING:matplotlib.image:Clipping input data to the valid range for imshow with RGB data ([0..1] for floats or [0..255] for integers).\n",
            "WARNING:matplotlib.image:Clipping input data to the valid range for imshow with RGB data ([0..1] for floats or [0..255] for integers).\n",
            "WARNING:matplotlib.image:Clipping input data to the valid range for imshow with RGB data ([0..1] for floats or [0..255] for integers).\n",
            "WARNING:matplotlib.image:Clipping input data to the valid range for imshow with RGB data ([0..1] for floats or [0..255] for integers).\n",
            "WARNING:matplotlib.image:Clipping input data to the valid range for imshow with RGB data ([0..1] for floats or [0..255] for integers).\n",
            "WARNING:matplotlib.image:Clipping input data to the valid range for imshow with RGB data ([0..1] for floats or [0..255] for integers).\n"
          ]
        },
        {
          "output_type": "stream",
          "name": "stdout",
          "text": [
            "\n",
            "Test set: Average loss: 1.2939, Accuracy: 5227/10000 (52%)\n",
            "\n"
          ]
        },
        {
          "output_type": "stream",
          "name": "stderr",
          "text": [
            "WARNING:matplotlib.image:Clipping input data to the valid range for imshow with RGB data ([0..1] for floats or [0..255] for integers).\n",
            "WARNING:matplotlib.image:Clipping input data to the valid range for imshow with RGB data ([0..1] for floats or [0..255] for integers).\n"
          ]
        },
        {
          "output_type": "display_data",
          "data": {
            "text/plain": [
              "<Figure size 2500x400 with 10 Axes>"
            ],
            "image/png": "[encoded data removed]"
          },
          "metadata": {}
        }
      ]
    }
  ]
}