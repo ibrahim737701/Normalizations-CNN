{
  "nbformat": 4,
  "nbformat_minor": 0,
  "metadata": {
    "colab": {
      "provenance": []
    },
    "kernelspec": {
      "name": "python3",
      "display_name": "Python 3"
    },
    "language_info": {
      "name": "python"
    }
  },
  "cells": [
    {
      "cell_type": "code",
      "source": [
        "from __future__ import print_function\n",
        "import torch\n",
        "import torch.nn as nn\n",
        "import torch.nn.functional as F\n",
        "import torch.optim as optim\n",
        "from torchvision import datasets, transforms"
      ],
      "metadata": {
        "id": "YtDWMzzUc-BD"
      },
      "execution_count": 30,
      "outputs": []
    },
    {
      "cell_type": "code",
      "execution_count": 31,
      "metadata": {
        "id": "M7c8TBs1c8s6"
      },
      "outputs": [],
      "source": [
        "class Net(nn.Module):\n",
        "    def __init__(self):\n",
        "        super(Net, self).__init__()\n",
        "        self.conv1 = nn.Conv2d(3, 16, 3, padding =1)\n",
        "        self.bn1 = nn.GroupNorm(8, 16)\n",
        "        self.conv2 = nn.Conv2d(16, 32, 3, padding =1)\n",
        "        self.bn2 = nn.GroupNorm(8, 32)\n",
        "        self.conv3 = nn.Conv2d(32,16, 1) #ant man\n",
        "        self.bn3 = nn.GroupNorm(8, 16)\n",
        "        self.pool1 = nn.MaxPool2d(2, 2)\n",
        "        self.conv4 = nn.Conv2d(16, 32, 3,padding =1)\n",
        "        self.bn4 = nn.GroupNorm(8, 32)\n",
        "        self.conv5 = nn.Conv2d(32, 32, 3,padding =1)\n",
        "        self.bn5 = nn.GroupNorm(8, 32)\n",
        "        self.conv6 = nn.Conv2d(32, 32, 3,padding =1)\n",
        "        self.bn6 = nn.GroupNorm(8, 32)\n",
        "        self.conv7 = nn.Conv2d(32, 16, 1)\n",
        "        self.bn7 = nn.GroupNorm(8, 16)\n",
        "        self.pool2 = nn.MaxPool2d(2, 2)\n",
        "        self.conv8 = nn.Conv2d(16,32,3,padding =1)\n",
        "        self.bn8 = nn.GroupNorm(8, 32)\n",
        "        self.conv9 = nn.Conv2d(32, 32, 3,padding =1)\n",
        "        self.bn9 = nn.GroupNorm(8, 32)\n",
        "        self.conv10 = nn.Conv2d(32,32,3,padding =1)\n",
        "        self.bn10 = nn.GroupNorm(8, 32)\n",
        "        self.gap = nn.AdaptiveAvgPool2d((1, 1))\n",
        "        self.conv11 = nn.Conv2d(32, 10, 1)\n",
        "\n",
        "    def forward(self, x):\n",
        "        x = F.relu(self.bn1(self.conv1(x)))\n",
        "        x = F.relu(self.bn2(self.conv2(x)))\n",
        "        x = F.relu(self.bn3(self.conv3(x)))\n",
        "        x = self.pool1(x)\n",
        "        x = F.relu(self.bn4(self.conv4(x)))\n",
        "        x = F.relu(self.bn5(self.conv5(x)))\n",
        "        x = F.relu(self.bn6(self.conv6(x)))\n",
        "        x = F.relu(self.bn7(self.conv7(x)))\n",
        "        x = self.pool2(x)\n",
        "        x = F.relu(self.bn8(self.conv8(x)))\n",
        "        x = F.relu(self.bn9(self.conv9(x)))\n",
        "        x = F.relu(self.bn10(self.conv10(x)))\n",
        "        x = self.gap(x)\n",
        "        x = x.squeeze(-1).squeeze(-1)\n",
        "\n",
        "        return F.log_softmax(x, dim=1)"
      ]
    },
    {
      "cell_type": "code",
      "source": [
        "from torchsummary import summary\n",
        "use_cuda = torch.cuda.is_available()\n",
        "device = torch.device(\"cuda\" if use_cuda else \"cpu\")\n",
        "model = Net().to(device)\n",
        "summary(model, input_size=(3, 28, 28))\n",
        ""
      ],
      "metadata": {
        "colab": {
          "base_uri": "https://localhost:8080/"
        },
        "id": "2X91sWmPdBw-",
        "outputId": "9e91add0-8707-41cb-8846-028e03ce8de7"
      },
      "execution_count": 32,
      "outputs": [
        {
          "output_type": "stream",
          "name": "stdout",
          "text": [
            "----------------------------------------------------------------\n",
            "        Layer (type)               Output Shape         Param #\n",
            "================================================================\n",
            "            Conv2d-1           [-1, 16, 28, 28]             448\n",
            "         GroupNorm-2           [-1, 16, 28, 28]              32\n",
            "            Conv2d-3           [-1, 32, 28, 28]           4,640\n",
            "         GroupNorm-4           [-1, 32, 28, 28]              64\n",
            "            Conv2d-5           [-1, 16, 28, 28]             528\n",
            "         GroupNorm-6           [-1, 16, 28, 28]              32\n",
            "         MaxPool2d-7           [-1, 16, 14, 14]               0\n",
            "            Conv2d-8           [-1, 32, 14, 14]           4,640\n",
            "         GroupNorm-9           [-1, 32, 14, 14]              64\n",
            "           Conv2d-10           [-1, 32, 14, 14]           9,248\n",
            "        GroupNorm-11           [-1, 32, 14, 14]              64\n",
            "           Conv2d-12           [-1, 32, 14, 14]           9,248\n",
            "        GroupNorm-13           [-1, 32, 14, 14]              64\n",
            "           Conv2d-14           [-1, 16, 14, 14]             528\n",
            "        GroupNorm-15           [-1, 16, 14, 14]              32\n",
            "        MaxPool2d-16             [-1, 16, 7, 7]               0\n",
            "           Conv2d-17             [-1, 32, 7, 7]           4,640\n",
            "        GroupNorm-18             [-1, 32, 7, 7]              64\n",
            "           Conv2d-19             [-1, 32, 7, 7]           9,248\n",
            "        GroupNorm-20             [-1, 32, 7, 7]              64\n",
            "           Conv2d-21             [-1, 32, 7, 7]           9,248\n",
            "        GroupNorm-22             [-1, 32, 7, 7]              64\n",
            "AdaptiveAvgPool2d-23             [-1, 32, 1, 1]               0\n",
            "================================================================\n",
            "Total params: 52,960\n",
            "Trainable params: 52,960\n",
            "Non-trainable params: 0\n",
            "----------------------------------------------------------------\n",
            "Input size (MB): 0.01\n",
            "Forward/backward pass size (MB): 1.20\n",
            "Params size (MB): 0.20\n",
            "Estimated Total Size (MB): 1.41\n",
            "----------------------------------------------------------------\n"
          ]
        }
      ]
    },
    {
      "cell_type": "code",
      "source": [
        "torch.manual_seed(1)\n",
        "batch_size = 128\n",
        "\n",
        "kwargs = {'num_workers': 1, 'pin_memory': True} if use_cuda else {}\n",
        "train_loader = torch.utils.data.DataLoader(\n",
        "    datasets.CIFAR10('../data', train=True, download=True,\n",
        "                     transform=transforms.Compose([\n",
        "                         transforms.ToTensor(),\n",
        "                         # Normalize the CIFAR10 dataset with mean and std for each channel (RGB).\n",
        "                         transforms.Normalize((0.4914, 0.4822, 0.4465), (0.247, 0.243, 0.261))\n",
        "                     ])),\n",
        "    batch_size=batch_size, shuffle=True, **kwargs)\n",
        "\n",
        "test_loader = torch.utils.data.DataLoader(\n",
        "    datasets.CIFAR10('../data', train=False, transform=transforms.Compose([\n",
        "                         transforms.ToTensor(),\n",
        "                         # Normalize using the same values as for the training set.\n",
        "                         transforms.Normalize((0.4914, 0.4822, 0.4465), (0.247, 0.243, 0.261))\n",
        "                     ])),\n",
        "    batch_size=batch_size, shuffle=True, **kwargs)"
      ],
      "metadata": {
        "colab": {
          "base_uri": "https://localhost:8080/"
        },
        "id": "2xihnv3TdD_n",
        "outputId": "adf5b88f-ccd1-4f32-95a1-3169ee871800"
      },
      "execution_count": 33,
      "outputs": [
        {
          "output_type": "stream",
          "name": "stdout",
          "text": [
            "Files already downloaded and verified\n"
          ]
        }
      ]
    },
    {
      "cell_type": "code",
      "source": [
        "from tqdm import tqdm\n",
        "import torch\n",
        "import torch.nn.functional as F\n",
        "import matplotlib.pyplot as plt\n",
        "\n",
        "def train(model, device, train_loader, optimizer, epoch):\n",
        "    model.train()\n",
        "    pbar = tqdm(train_loader)\n",
        "    correct = 0\n",
        "    processed = 0\n",
        "    for batch_idx, (data, target) in enumerate(pbar):\n",
        "        data, target = data.to(device), target.to(device)\n",
        "        optimizer.zero_grad()\n",
        "        output = model(data)\n",
        "        loss = F.nll_loss(output, target)\n",
        "        loss.backward()\n",
        "        optimizer.step()\n",
        "\n",
        "        # Get predictions and count correct ones\n",
        "        pred = output.argmax(dim=1, keepdim=True)\n",
        "        correct += pred.eq(target.view_as(pred)).sum().item()\n",
        "        processed += len(data)\n",
        "\n",
        "        # Update progress bar description\n",
        "        pbar.set_description(desc=f'Loss={loss.item()} Batch_id={batch_idx} Accuracy={100.*correct/processed:.2f}%')\n",
        "\n",
        "    # Print training accuracy for the epoch\n",
        "    print('\\nTrain set: Epoch: {}, Accuracy: {}/{} ({:.0f}%)\\n'.format(\n",
        "        epoch, correct, len(train_loader.dataset), 100. * correct / len(train_loader.dataset)))\n",
        "\n",
        "def test(model, device, test_loader):\n",
        "    model.eval()\n",
        "    test_loss = 0\n",
        "    correct = 0\n",
        "    misclassified_indices = []  # List to store indices of misclassified images\n",
        "    with torch.no_grad():\n",
        "        for batch_idx, (data, target) in enumerate(tqdm(test_loader)):\n",
        "            data, target = data.to(device), target.to(device)\n",
        "            output = model(data)\n",
        "            test_loss += F.nll_loss(output, target, reduction='sum').item()  # sum up batch loss\n",
        "            pred = output.argmax(dim=1, keepdim=True)  # get the index of the max log-probability\n",
        "            correct += pred.eq(target.view_as(pred)).sum().item()\n",
        "\n",
        "            # Identify misclassified indices\n",
        "            misclassified = ~pred.eq(target.view_as(pred))\n",
        "            idxs = batch_idx * test_loader.batch_size + torch.nonzero(misclassified, as_tuple=False).reshape(-1)\n",
        "            misclassified_indices.extend(idxs.cpu().numpy())\n",
        "\n",
        "    test_loss /= len(test_loader.dataset)\n",
        "\n",
        "    # Print test accuracy\n",
        "    print('\\nTest set: Average loss: {:.4f}, Accuracy: {}/{} ({:.0f}%)\\n'.format(\n",
        "        test_loss, correct, len(test_loader.dataset), 100. * correct / len(test_loader.dataset)))\n",
        "\n",
        "    return misclassified_indices\n",
        "\n",
        "# def display_misclassified_images(misclassified_indices, dataset, num_images=10):\n",
        "#     if len(misclassified_indices) < num_images:\n",
        "#         num_images = len(misclassified_indices)\n",
        "#     fig = plt.figure(figsize=(25, 4))\n",
        "#     for idx, misclassified_index in enumerate(misclassified_indices[:num_images]):\n",
        "#         ax = fig.add_subplot(2, num_images/2, idx+1, xticks=[], yticks=[])\n",
        "#         image, label = dataset[misclassified_index]\n",
        "#         image = image.cpu().numpy().transpose((1, 2, 0))  # Convert to HxWxC format for displaying\n",
        "#         ax.imshow(image)\n",
        "#         ax.set_title(f'Index: {misclassified_index}\\nPredicted: {label}')\n",
        "\n",
        "def display_misclassified_images(misclassified_indices, dataset, num_images=10):\n",
        "    if len(misclassified_indices) < num_images:\n",
        "        num_images = len(misclassified_indices)\n",
        "    num_cols = min(num_images // 2, 5)  # Limiting to 5 columns for better visualization\n",
        "    fig = plt.figure(figsize=(25, 4))\n",
        "    for idx, misclassified_index in enumerate(misclassified_indices[:num_images]):\n",
        "        ax = fig.add_subplot(2, num_cols, idx+1, xticks=[], yticks=[])  # Ensure num_cols is an integer\n",
        "        image, label = dataset[misclassified_index]\n",
        "        image = image.cpu().numpy().transpose((1, 2, 0))  # Convert to HxWxC format for displaying\n",
        "        ax.imshow(image)\n",
        "        ax.set_title(f'Index: {misclassified_index}\\nPredicted: {label}')\n",
        "\n"
      ],
      "metadata": {
        "id": "xBZZK8G3dFuv"
      },
      "execution_count": 34,
      "outputs": []
    },
    {
      "cell_type": "code",
      "source": [
        "import torchvision\n",
        "import torchvision.transforms as transforms\n",
        "model = Net().to(device)\n",
        "optimizer = optim.SGD(model.parameters(), lr=0.01, momentum=0.9)\n",
        "\n",
        "transform = transforms.Compose(\n",
        "        [transforms.ToTensor(),\n",
        "         transforms.Normalize((0.5, 0.5, 0.5), (0.5, 0.5, 0.5))])\n",
        "testset = torchvision.datasets.CIFAR10(root='./data', train=False,\n",
        "                                           download=True, transform=transform)\n",
        "for epoch in range(1, 12):\n",
        "    train(model, device, train_loader, optimizer, epoch)\n",
        "    x= test(model, device, test_loader)\n",
        "\n",
        "\n",
        "display_misclassified_images(x, testset, num_images=10)"
      ],
      "metadata": {
        "colab": {
          "base_uri": "https://localhost:8080/",
          "height": 1000
        },
        "id": "aeyNcObqeBAy",
        "outputId": "2a260aaa-16e8-4976-fafe-37af0b59098f"
      },
      "execution_count": 35,
      "outputs": [
        {
          "metadata": {
            "tags": null
          },
          "name": "stdout",
          "output_type": "stream",
          "text": [
            "Files already downloaded and verified\n"
          ]
        },
        {
          "metadata": {
            "tags": null
          },
          "name": "stderr",
          "output_type": "stream",
          "text": [
            "Loss=2.038461685180664 Batch_id=390 Accuracy=23.03%: 100%|██████████| 391/391 [02:43<00:00,  2.40it/s]\n"
          ]
        },
        {
          "metadata": {
            "tags": null
          },
          "name": "stdout",
          "output_type": "stream",
          "text": [
            "\n",
            "Train set: Epoch: 1, Accuracy: 11517/50000 (23%)\n",
            "\n"
          ]
        },
        {
          "metadata": {
            "tags": null
          },
          "name": "stderr",
          "output_type": "stream",
          "text": [
            "100%|██████████| 79/79 [00:13<00:00,  5.77it/s]\n"
          ]
        },
        {
          "metadata": {
            "tags": null
          },
          "name": "stdout",
          "output_type": "stream",
          "text": [
            "\n",
            "Test set: Average loss: 2.0912, Accuracy: 3570/10000 (36%)\n",
            "\n"
          ]
        },
        {
          "metadata": {
            "tags": null
          },
          "name": "stderr",
          "output_type": "stream",
          "text": [
            "Loss=1.5540783405303955 Batch_id=390 Accuracy=40.95%: 100%|██████████| 391/391 [02:40<00:00,  2.43it/s]\n"
          ]
        },
        {
          "metadata": {
            "tags": null
          },
          "name": "stdout",
          "output_type": "stream",
          "text": [
            "\n",
            "Train set: Epoch: 2, Accuracy: 20473/50000 (41%)\n",
            "\n"
          ]
        },
        {
          "metadata": {
            "tags": null
          },
          "name": "stderr",
          "output_type": "stream",
          "text": [
            "100%|██████████| 79/79 [00:14<00:00,  5.61it/s]\n"
          ]
        },
        {
          "metadata": {
            "tags": null
          },
          "name": "stdout",
          "output_type": "stream",
          "text": [
            "\n",
            "Test set: Average loss: 1.6750, Accuracy: 4346/10000 (43%)\n",
            "\n"
          ]
        },
        {
          "metadata": {
            "tags": null
          },
          "name": "stderr",
          "output_type": "stream",
          "text": [
            "Loss=1.4264191389083862 Batch_id=390 Accuracy=50.31%: 100%|██████████| 391/391 [02:37<00:00,  2.48it/s]\n"
          ]
        },
        {
          "metadata": {
            "tags": null
          },
          "name": "stdout",
          "output_type": "stream",
          "text": [
            "\n",
            "Train set: Epoch: 3, Accuracy: 25156/50000 (50%)\n",
            "\n"
          ]
        },
        {
          "metadata": {
            "tags": null
          },
          "name": "stderr",
          "output_type": "stream",
          "text": [
            "100%|██████████| 79/79 [00:13<00:00,  5.73it/s]\n"
          ]
        },
        {
          "metadata": {
            "tags": null
          },
          "name": "stdout",
          "output_type": "stream",
          "text": [
            "\n",
            "Test set: Average loss: 1.3999, Accuracy: 5399/10000 (54%)\n",
            "\n"
          ]
        },
        {
          "metadata": {
            "tags": null
          },
          "name": "stderr",
          "output_type": "stream",
          "text": [
            "Loss=1.2302145957946777 Batch_id=390 Accuracy=56.04%: 100%|██████████| 391/391 [02:38<00:00,  2.46it/s]\n"
          ]
        },
        {
          "metadata": {
            "tags": null
          },
          "name": "stdout",
          "output_type": "stream",
          "text": [
            "\n",
            "Train set: Epoch: 4, Accuracy: 28019/50000 (56%)\n",
            "\n"
          ]
        },
        {
          "metadata": {
            "tags": null
          },
          "name": "stderr",
          "output_type": "stream",
          "text": [
            "100%|██████████| 79/79 [00:14<00:00,  5.47it/s]\n"
          ]
        },
        {
          "metadata": {
            "tags": null
          },
          "name": "stdout",
          "output_type": "stream",
          "text": [
            "\n",
            "Test set: Average loss: 1.2392, Accuracy: 5875/10000 (59%)\n",
            "\n"
          ]
        },
        {
          "metadata": {
            "tags": null
          },
          "name": "stderr",
          "output_type": "stream",
          "text": [
            "Loss=1.0996333360671997 Batch_id=390 Accuracy=60.97%: 100%|██████████| 391/391 [02:40<00:00,  2.43it/s]\n"
          ]
        },
        {
          "metadata": {
            "tags": null
          },
          "name": "stdout",
          "output_type": "stream",
          "text": [
            "\n",
            "Train set: Epoch: 5, Accuracy: 30484/50000 (61%)\n",
            "\n"
          ]
        },
        {
          "metadata": {
            "tags": null
          },
          "name": "stderr",
          "output_type": "stream",
          "text": [
            "100%|██████████| 79/79 [00:13<00:00,  5.88it/s]\n"
          ]
        },
        {
          "metadata": {
            "tags": null
          },
          "name": "stdout",
          "output_type": "stream",
          "text": [
            "\n",
            "Test set: Average loss: 1.1279, Accuracy: 6248/10000 (62%)\n",
            "\n"
          ]
        },
        {
          "output_type": "stream",
          "name": "stderr",
          "text": [
            "Loss=1.1220835447311401 Batch_id=390 Accuracy=64.27%: 100%|██████████| 391/391 [02:42<00:00,  2.41it/s]\n"
          ]
        },
        {
          "output_type": "stream",
          "name": "stdout",
          "text": [
            "\n",
            "Train set: Epoch: 6, Accuracy: 32136/50000 (64%)\n",
            "\n"
          ]
        },
        {
          "output_type": "stream",
          "name": "stderr",
          "text": [
            "100%|██████████| 79/79 [00:14<00:00,  5.55it/s]\n"
          ]
        },
        {
          "output_type": "stream",
          "name": "stdout",
          "text": [
            "\n",
            "Test set: Average loss: 1.0783, Accuracy: 6457/10000 (65%)\n",
            "\n"
          ]
        },
        {
          "output_type": "stream",
          "name": "stderr",
          "text": [
            "Loss=0.9675981402397156 Batch_id=390 Accuracy=66.75%: 100%|██████████| 391/391 [02:41<00:00,  2.43it/s]\n"
          ]
        },
        {
          "output_type": "stream",
          "name": "stdout",
          "text": [
            "\n",
            "Train set: Epoch: 7, Accuracy: 33376/50000 (67%)\n",
            "\n"
          ]
        },
        {
          "output_type": "stream",
          "name": "stderr",
          "text": [
            "100%|██████████| 79/79 [00:14<00:00,  5.41it/s]\n"
          ]
        },
        {
          "output_type": "stream",
          "name": "stdout",
          "text": [
            "\n",
            "Test set: Average loss: 0.9832, Accuracy: 6688/10000 (67%)\n",
            "\n"
          ]
        },
        {
          "output_type": "stream",
          "name": "stderr",
          "text": [
            "Loss=0.8739038705825806 Batch_id=390 Accuracy=68.96%: 100%|██████████| 391/391 [02:45<00:00,  2.36it/s]\n"
          ]
        },
        {
          "output_type": "stream",
          "name": "stdout",
          "text": [
            "\n",
            "Train set: Epoch: 8, Accuracy: 34478/50000 (69%)\n",
            "\n"
          ]
        },
        {
          "output_type": "stream",
          "name": "stderr",
          "text": [
            "100%|██████████| 79/79 [00:13<00:00,  5.71it/s]\n"
          ]
        },
        {
          "output_type": "stream",
          "name": "stdout",
          "text": [
            "\n",
            "Test set: Average loss: 1.0982, Accuracy: 6447/10000 (64%)\n",
            "\n"
          ]
        },
        {
          "output_type": "stream",
          "name": "stderr",
          "text": [
            "Loss=0.8646000027656555 Batch_id=390 Accuracy=70.22%: 100%|██████████| 391/391 [02:41<00:00,  2.43it/s]\n"
          ]
        },
        {
          "output_type": "stream",
          "name": "stdout",
          "text": [
            "\n",
            "Train set: Epoch: 9, Accuracy: 35112/50000 (70%)\n",
            "\n"
          ]
        },
        {
          "output_type": "stream",
          "name": "stderr",
          "text": [
            "100%|██████████| 79/79 [00:13<00:00,  5.66it/s]\n"
          ]
        },
        {
          "output_type": "stream",
          "name": "stdout",
          "text": [
            "\n",
            "Test set: Average loss: 0.9042, Accuracy: 6952/10000 (70%)\n",
            "\n"
          ]
        },
        {
          "output_type": "stream",
          "name": "stderr",
          "text": [
            "Loss=0.8180049061775208 Batch_id=390 Accuracy=71.89%: 100%|██████████| 391/391 [02:42<00:00,  2.41it/s]\n"
          ]
        },
        {
          "output_type": "stream",
          "name": "stdout",
          "text": [
            "\n",
            "Train set: Epoch: 10, Accuracy: 35944/50000 (72%)\n",
            "\n"
          ]
        },
        {
          "output_type": "stream",
          "name": "stderr",
          "text": [
            "100%|██████████| 79/79 [00:13<00:00,  5.70it/s]\n"
          ]
        },
        {
          "output_type": "stream",
          "name": "stdout",
          "text": [
            "\n",
            "Test set: Average loss: 0.9460, Accuracy: 6802/10000 (68%)\n",
            "\n"
          ]
        },
        {
          "output_type": "stream",
          "name": "stderr",
          "text": [
            "Loss=0.9115519523620605 Batch_id=390 Accuracy=73.52%: 100%|██████████| 391/391 [02:40<00:00,  2.44it/s]\n"
          ]
        },
        {
          "output_type": "stream",
          "name": "stdout",
          "text": [
            "\n",
            "Train set: Epoch: 11, Accuracy: 36758/50000 (74%)\n",
            "\n"
          ]
        },
        {
          "output_type": "stream",
          "name": "stderr",
          "text": [
            "100%|██████████| 79/79 [00:13<00:00,  5.74it/s]\n",
            "WARNING:matplotlib.image:Clipping input data to the valid range for imshow with RGB data ([0..1] for floats or [0..255] for integers).\n",
            "WARNING:matplotlib.image:Clipping input data to the valid range for imshow with RGB data ([0..1] for floats or [0..255] for integers).\n",
            "WARNING:matplotlib.image:Clipping input data to the valid range for imshow with RGB data ([0..1] for floats or [0..255] for integers).\n",
            "WARNING:matplotlib.image:Clipping input data to the valid range for imshow with RGB data ([0..1] for floats or [0..255] for integers).\n",
            "WARNING:matplotlib.image:Clipping input data to the valid range for imshow with RGB data ([0..1] for floats or [0..255] for integers).\n",
            "WARNING:matplotlib.image:Clipping input data to the valid range for imshow with RGB data ([0..1] for floats or [0..255] for integers).\n",
            "WARNING:matplotlib.image:Clipping input data to the valid range for imshow with RGB data ([0..1] for floats or [0..255] for integers).\n"
          ]
        },
        {
          "output_type": "stream",
          "name": "stdout",
          "text": [
            "\n",
            "Test set: Average loss: 0.8823, Accuracy: 7055/10000 (71%)\n",
            "\n"
          ]
        },
        {
          "output_type": "stream",
          "name": "stderr",
          "text": [
            "WARNING:matplotlib.image:Clipping input data to the valid range for imshow with RGB data ([0..1] for floats or [0..255] for integers).\n",
            "WARNING:matplotlib.image:Clipping input data to the valid range for imshow with RGB data ([0..1] for floats or [0..255] for integers).\n",
            "WARNING:matplotlib.image:Clipping input data to the valid range for imshow with RGB data ([0..1] for floats or [0..255] for integers).\n"
          ]
        },
        {
          "output_type": "display_data",
          "data": {
            "text/plain": [
              "<Figure size 2500x400 with 10 Axes>"
            ],
            "image/png": "[encoded data removed]"
          },
          "metadata": {}
        }
      ]
    },
    {
      "cell_type": "markdown",
      "source": [],
      "metadata": {
        "id": "NOkQZqN70msL"
      }
    }
  ]
}